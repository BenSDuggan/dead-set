{
 "cells": [
  {
   "cell_type": "markdown",
   "id": "a03369d3",
   "metadata": {},
   "source": [
    "\n",
    "\n",
    "## Types of data\n",
    "\n",
    "* *slug*_songs.json: List of all the songs for that band. It contains metadata about the songs such as number of times played\n",
    "* *slug*_years.json: List of every year shows were played and meta data about that those shows.\n",
    "* *slug*_*year*_shows.json: Every show and source nested similarly to ReListen from that year. Placed in the *years* folder.\n",
    "\n",
    "\n",
    "* *slug*_shows.csv: Every song, for every source, for every show, for every year. It contains everything, except meta data on ???\n",
    "\n",
    "Chagnge the slug to the artist to download"
   ]
  },
  {
   "cell_type": "code",
   "execution_count": 4,
   "id": "3fd13cce",
   "metadata": {},
   "outputs": [],
   "source": [
    "import json\n",
    "import os\n",
    "import requests\n",
    "from pathlib import Path\n",
    "import sys\n",
    "import time\n",
    "import urllib\n",
    "\n",
    "api_url = \"https://api.relisten.net/api/v2/\"\n",
    "slug = \"grateful-dead\"\n",
    "\n",
    "# Save location\n",
    "parent_dir = \"%s\" % slug\n",
    "try:\n",
    "    os.mkdir(parent_dir)\n",
    "except:\n",
    "    pass\n",
    "\n",
    "songs_file = Path(parent_dir) / (\"%s_songs.json\" % slug)\n",
    "years_file = Path(parent_dir) / (\"%s_years.json\" % slug)\n",
    "shows_dir = Path(parent_dir) / \"shows\"\n",
    "\n",
    "try:\n",
    "    os.mkdir(shows_dir)\n",
    "except:\n",
    "    pass\n",
    "    \n",
    "years = []\n",
    "shows_dict = {}\n",
    "combined_table = []\n"
   ]
  },
  {
   "cell_type": "code",
   "execution_count": 5,
   "id": "46a1bb26",
   "metadata": {},
   "outputs": [
    {
     "name": "stdout",
     "output_type": "stream",
     "text": [
      "<Response [200]>\n",
      "https://api.relisten.net/api/v2/artists/grateful-dead/songs\n",
      "557\n"
     ]
    }
   ],
   "source": [
    "# Download songs\n",
    "\n",
    "req_url = urllib.parse.urljoin(api_url, \"artists/%s/songs\"%slug)\n",
    "r = requests.get (req_url)\n",
    "print(r)\n",
    "print(r.url)\n",
    "\n",
    "parsed = json.loads(r.text)\n",
    "print(len(parsed))\n",
    "\n",
    "with open(songs_file, 'w') as f:\n",
    "    json.dump(parsed, f, indent=4)\n"
   ]
  },
  {
   "cell_type": "code",
   "execution_count": 6,
   "id": "c5a349d0",
   "metadata": {},
   "outputs": [
    {
     "name": "stdout",
     "output_type": "stream",
     "text": [
      "<Response [200]>\n",
      "https://api.relisten.net/api/v2/artists/grateful-dead/years\n",
      "31\n"
     ]
    }
   ],
   "source": [
    "# Download years\n",
    "\n",
    "req_url = urllib.parse.urljoin(api_url, \"artists/%s/years\"%slug)\n",
    "r = requests.get (req_url)\n",
    "print(r)\n",
    "print(r.url)\n",
    "\n",
    "parsed = json.loads(r.text)\n",
    "print(len(parsed))\n",
    "\n",
    "with open(years_file, 'w') as f:\n",
    "    json.dump(parsed, f, indent=4)\n",
    "\n",
    "for c in parsed:\n",
    "    years.append(int(c[\"year\"]))"
   ]
  },
  {
   "cell_type": "code",
   "execution_count": 7,
   "id": "b8bdf621",
   "metadata": {},
   "outputs": [
    {
     "name": "stdout",
     "output_type": "stream",
     "text": [
      "1965:  0.50,  0.50\n",
      "1966:  4.95,  5.45\n",
      "1967:  3.65,  9.10\n",
      "1968:  5.52, 14.62\n",
      "1969: 15.81, 30.43\n",
      "1970: 13.83, 44.26\n",
      "1971: 12.53, 56.79\n",
      "1972: 13.18, 69.97\n",
      "1973: 12.00, 81.97\n",
      "1974:  7.45, 89.42\n",
      "1975:  3.06, 92.48\n",
      "1976:  6.84, 99.32\n",
      "1977: 10.01, 109.33\n",
      "1978: 20.57, 129.90\n",
      "1979: 20.27, 150.16\n",
      "1980: 23.72, 173.89\n",
      "1981: 24.31, 198.20\n",
      "1982: 17.05, 215.25\n",
      "1983: 19.72, 234.98\n",
      "1984: 19.21, 254.19\n",
      "1985: 21.06, 275.24\n",
      "1986: 12.84, 288.08\n",
      "1987: 24.32, 312.41\n",
      "1988: 21.91, 334.32\n",
      "1989: 22.52, 356.84\n",
      "1990: 22.27, 379.11\n",
      "1991: 21.62, 400.74\n",
      "1992: 13.76, 414.50\n",
      "1993: 14.31, 428.81\n",
      "1994: 13.49, 442.30\n",
      "1995:  7.45, 449.75\n"
     ]
    }
   ],
   "source": [
    "# Get show information, broken up by year\n",
    "\n",
    "start = time.time()\n",
    "last_time = start\n",
    "for y in years:\n",
    "    print(\"%d: \" % y, end=\"\")\n",
    "    req_url = urllib.parse.urljoin(api_url, \"artists/%s/years/%d\"%(slug, y))\n",
    "    r = requests.get (req_url)\n",
    "    if r.status_code != 200:\n",
    "        print(\"Error getting data for year: %d\" % y)\n",
    "    \n",
    "    year = json.loads(r.text)\n",
    "    shows = year\n",
    "    \n",
    "    for s in range(0, len(year[\"shows\"])):\n",
    "        req_url = urllib.parse.urljoin(api_url, \"artists/%s/years/%d/%s\"%(slug, y, year[\"shows\"][s][\"display_date\"]))\n",
    "        r = requests.get (req_url)\n",
    "        if r.status_code != 200:\n",
    "            print(\"Error getting data for year: %d; show: %s\" % (y, year[\"shows\"][s][\"display_date\"]))\n",
    "            print(\"Status: %d\" % r.status_code)\n",
    "\n",
    "        show = json.loads(r.text)\n",
    "        shows[\"shows\"][s][\"sources\"] = show[\"sources\"]\n",
    "\n",
    "    with open(shows_dir / (\"%d_shows.json\"%y) , \"w\") as f:\n",
    "        #json.dump(shows, f, indent=4)\n",
    "        json.dump(shows, f)\n",
    "    \n",
    "    print(\"%5.2f, %5.2f\" % (time.time()-last_time, time.time()-start))\n",
    "    last_time = time.time()"
   ]
  },
  {
   "cell_type": "code",
   "execution_count": null,
   "id": "3dade41c",
   "metadata": {},
   "outputs": [],
   "source": [
    "# Reshape downloaded files into single table\n",
    "\n"
   ]
  }
 ],
 "metadata": {
  "kernelspec": {
   "display_name": "Python 3",
   "language": "python",
   "name": "python3"
  },
  "language_info": {
   "codemirror_mode": {
    "name": "ipython",
    "version": 3
   },
   "file_extension": ".py",
   "mimetype": "text/x-python",
   "name": "python",
   "nbconvert_exporter": "python",
   "pygments_lexer": "ipython3",
   "version": "3.11.1"
  }
 },
 "nbformat": 4,
 "nbformat_minor": 5
}
